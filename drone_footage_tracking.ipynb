{
  "nbformat": 4,
  "nbformat_minor": 0,
  "metadata": {
    "colab": {
      "name": "drone_footage_tracking",
      "provenance": []
    },
    "kernelspec": {
      "name": "python3",
      "display_name": "Python 3"
    },
    "language_info": {
      "name": "python"
    }
  },
  "cells": [
    {
      "cell_type": "markdown",
      "metadata": {
        "id": "EesZqLatitn8"
      },
      "source": [
        "# Cloning the git repository of yolov5:"
      ]
    },
    {
      "cell_type": "code",
      "metadata": {
        "colab": {
          "base_uri": "https://localhost:8080/"
        },
        "id": "IDRdy5SKgYHI",
        "outputId": "d825e2d7-9903-435c-9156-e7c53c980673"
      },
      "source": [
        "!git clone https://github.com/ultralytics/yolov5  # clone repo\n",
        "%cd yolov5\n",
        "%pip install -qr requirements.txt  # install dependencies\n",
        "\n",
        "import torch\n",
        "from IPython.display import Image, clear_output  # to display images\n",
        "\n",
        "clear_output()\n",
        "print(f\"Setup complete. Using torch {torch.__version__} ({torch.cuda.get_device_properties(0).name if torch.cuda.is_available() else 'CPU'})\")"
      ],
      "execution_count": 8,
      "outputs": [
        {
          "output_type": "stream",
          "text": [
            "Setup complete. Using torch 1.9.0+cu102 (CPU)\n"
          ],
          "name": "stdout"
        }
      ]
    },
    {
      "cell_type": "markdown",
      "metadata": {
        "id": "6vCl1kndx2vW"
      },
      "source": [
        "# Linking to Drive to Access the Custom YAML file, Custom Dataset and The Drone Footage:\n",
        "- YAML file link : [custom_data_yaml](https://drive.google.com/file/d/1z3xPr8mR_RVIXYGkdZ26hBtZYQzNA8bc/view?usp=sharing)\n",
        "\n",
        "- Custom Dataset link : [Custom Dataset](https://drive.google.com/drive/folders/1YCb1leynYetp1vNN4QTHv2coAE6NOU4b?usp=sharing)\n",
        "\n",
        "- Drone Footage link: [drone.mp4](https://drive.google.com/file/d/1kJDtPJA2SSJq98bBSXRoG7Yd8jLjJUe8/view?usp=sharing)"
      ]
    },
    {
      "cell_type": "code",
      "metadata": {
        "id": "5Pe3-eICmybe"
      },
      "source": [
        "from google.colab import drive\n",
        "drive.mount('/content/drive')"
      ],
      "execution_count": null,
      "outputs": []
    },
    {
      "cell_type": "markdown",
      "metadata": {
        "id": "KW8jX71yzYpY"
      },
      "source": [
        "# Training The Custom Dataset On 300 Epochs:"
      ]
    },
    {
      "cell_type": "code",
      "metadata": {
        "id": "NvKmyfyGhl5P"
      },
      "source": [
        "!python train.py --img 640 --batch 4 --epochs 300 --data /content/drive/MyDrive/custom_data.yaml --weights yolov5x.pt --nosave --cache"
      ],
      "execution_count": null,
      "outputs": []
    },
    {
      "cell_type": "markdown",
      "metadata": {
        "id": "sfd2wX77-St5"
      },
      "source": [
        "## Changing to content directory:"
      ]
    },
    {
      "cell_type": "code",
      "metadata": {
        "id": "8TFoOoYD-Qld"
      },
      "source": [
        "%cd /content"
      ],
      "execution_count": null,
      "outputs": []
    },
    {
      "cell_type": "markdown",
      "metadata": {
        "id": "r7rc5bMk1Lfq"
      },
      "source": [
        "# Cloning The Custom Modified Version of Yolov5_DeepSort_Pytorch from my repo for tracking the Cars:\n",
        "## Modifications made on:\n",
        "- /content/Yolov5_DeepSort_Pytorch/track.py\n",
        "- /content/Yolov5_DeepSort_Pytorch/deep_sort_pytorch/deep_sort/deep_sort.py"
      ]
    },
    {
      "cell_type": "code",
      "metadata": {
        "colab": {
          "base_uri": "https://localhost:8080/"
        },
        "id": "7F9UaCUrfvt7",
        "outputId": "edd06989-8f77-4e84-e43a-6ade3eaf8b5f"
      },
      "source": [
        "!git clone https://github.com/wasifuddin/Yolov5_DeepSort_Pytorch.git\n",
        "%cd Yolov5_DeepSort_Pytorch\n",
        "%pip install -qr requirements.txt  # install dependencies\n",
        "\n",
        "import torch\n",
        "from IPython.display import Image, clear_output  # to display images\n",
        "clear_output()\n",
        "print(f\"Setup complete. Using torch {torch.__version__} ({torch.cuda.get_device_properties(0).name if torch.cuda.is_available() else 'CPU'})\")"
      ],
      "execution_count": 20,
      "outputs": [
        {
          "output_type": "stream",
          "text": [
            "Cloning into 'Yolov5_DeepSort_Pytorch'...\n",
            "remote: Enumerating objects: 860, done.\u001b[K\n",
            "remote: Counting objects: 100% (119/119), done.\u001b[K\n",
            "remote: Compressing objects: 100% (69/69), done.\u001b[K\n",
            "remote: Total 860 (delta 52), reused 77 (delta 38), pack-reused 741\u001b[K\n",
            "Receiving objects: 100% (860/860), 25.70 MiB | 24.81 MiB/s, done.\n",
            "Resolving deltas: 100% (390/390), done.\n",
            "/content/Yolov5_DeepSort_Pytorch\n"
          ],
          "name": "stdout"
        }
      ]
    },
    {
      "cell_type": "markdown",
      "metadata": {
        "id": "CaYEfXrq4pTK"
      },
      "source": [
        "# The Weights file on which the Training was done:\n",
        "Weights file(last5.pt) link : [last5.pt](https://drive.google.com/file/d/1v4wjqTCakCFtrvZ7c6cLOtc-u-iJqU7U/view?usp=sharing)"
      ]
    },
    {
      "cell_type": "markdown",
      "metadata": {
        "id": "cMCiM8UJ50U4"
      },
      "source": [
        "# Tracking the Number of Cars in the Video:"
      ]
    },
    {
      "cell_type": "code",
      "metadata": {
        "id": "7YJa87N75zuz"
      },
      "source": [
        "!python track.py --yolo_weights /content/drive/MyDrive/last5.pt --source /content/drive/MyDrive/drone.mp4 --save-vid --save-txt"
      ],
      "execution_count": null,
      "outputs": []
    },
    {
      "cell_type": "markdown",
      "metadata": {
        "id": "KV0bVy-180-z"
      },
      "source": [
        "# Downloading the Processed file:"
      ]
    },
    {
      "cell_type": "code",
      "metadata": {
        "id": "8_15ac1d8-5t"
      },
      "source": [
        "from google.colab import files\n",
        "files.download(\"/content/Yolov5_DeepSort_Pytorch/inference/output/drone.mp4\")"
      ],
      "execution_count": null,
      "outputs": []
    }
  ]
}